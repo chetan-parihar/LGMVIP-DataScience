{
 "cells": [
  {
   "attachments": {},
   "cell_type": "markdown",
   "metadata": {},
   "source": [
    "Stock Market Prediction and forecasting using Stacked LSTM"
   ]
  },
  {
   "cell_type": "code",
   "execution_count": 45,
   "metadata": {},
   "outputs": [],
   "source": [
    "import pandas as pd\n",
    "import numpy as np\n",
    "import math\n",
    "import matplotlib.pyplot as plt\n",
    "from sklearn.metrics import mean_squared_error"
   ]
  },
  {
   "cell_type": "code",
   "execution_count": 46,
   "metadata": {},
   "outputs": [],
   "source": [
    "Data=pd.read_csv(\"Stok.csv\")"
   ]
  },
  {
   "cell_type": "code",
   "execution_count": 47,
   "metadata": {},
   "outputs": [
    {
     "data": {
      "text/html": [
       "<div>\n",
       "<style scoped>\n",
       "    .dataframe tbody tr th:only-of-type {\n",
       "        vertical-align: middle;\n",
       "    }\n",
       "\n",
       "    .dataframe tbody tr th {\n",
       "        vertical-align: top;\n",
       "    }\n",
       "\n",
       "    .dataframe thead th {\n",
       "        text-align: right;\n",
       "    }\n",
       "</style>\n",
       "<table border=\"1\" class=\"dataframe\">\n",
       "  <thead>\n",
       "    <tr style=\"text-align: right;\">\n",
       "      <th></th>\n",
       "      <th>Date</th>\n",
       "      <th>Open</th>\n",
       "      <th>High</th>\n",
       "      <th>Low</th>\n",
       "      <th>Last</th>\n",
       "      <th>Close</th>\n",
       "      <th>Total Trade Quantity</th>\n",
       "      <th>Turnover (Lacs)</th>\n",
       "    </tr>\n",
       "  </thead>\n",
       "  <tbody>\n",
       "    <tr>\n",
       "      <th>0</th>\n",
       "      <td>2018-09-28</td>\n",
       "      <td>234.05</td>\n",
       "      <td>235.95</td>\n",
       "      <td>230.20</td>\n",
       "      <td>233.50</td>\n",
       "      <td>233.75</td>\n",
       "      <td>3069914</td>\n",
       "      <td>7162.35</td>\n",
       "    </tr>\n",
       "    <tr>\n",
       "      <th>1</th>\n",
       "      <td>2018-09-27</td>\n",
       "      <td>234.55</td>\n",
       "      <td>236.80</td>\n",
       "      <td>231.10</td>\n",
       "      <td>233.80</td>\n",
       "      <td>233.25</td>\n",
       "      <td>5082859</td>\n",
       "      <td>11859.95</td>\n",
       "    </tr>\n",
       "    <tr>\n",
       "      <th>2</th>\n",
       "      <td>2018-09-26</td>\n",
       "      <td>240.00</td>\n",
       "      <td>240.00</td>\n",
       "      <td>232.50</td>\n",
       "      <td>235.00</td>\n",
       "      <td>234.25</td>\n",
       "      <td>2240909</td>\n",
       "      <td>5248.60</td>\n",
       "    </tr>\n",
       "    <tr>\n",
       "      <th>3</th>\n",
       "      <td>2018-09-25</td>\n",
       "      <td>233.30</td>\n",
       "      <td>236.75</td>\n",
       "      <td>232.00</td>\n",
       "      <td>236.25</td>\n",
       "      <td>236.10</td>\n",
       "      <td>2349368</td>\n",
       "      <td>5503.90</td>\n",
       "    </tr>\n",
       "    <tr>\n",
       "      <th>4</th>\n",
       "      <td>2018-09-24</td>\n",
       "      <td>233.55</td>\n",
       "      <td>239.20</td>\n",
       "      <td>230.75</td>\n",
       "      <td>234.00</td>\n",
       "      <td>233.30</td>\n",
       "      <td>3423509</td>\n",
       "      <td>7999.55</td>\n",
       "    </tr>\n",
       "  </tbody>\n",
       "</table>\n",
       "</div>"
      ],
      "text/plain": [
       "         Date    Open    High     Low    Last   Close  Total Trade Quantity  \\\n",
       "0  2018-09-28  234.05  235.95  230.20  233.50  233.75               3069914   \n",
       "1  2018-09-27  234.55  236.80  231.10  233.80  233.25               5082859   \n",
       "2  2018-09-26  240.00  240.00  232.50  235.00  234.25               2240909   \n",
       "3  2018-09-25  233.30  236.75  232.00  236.25  236.10               2349368   \n",
       "4  2018-09-24  233.55  239.20  230.75  234.00  233.30               3423509   \n",
       "\n",
       "   Turnover (Lacs)  \n",
       "0          7162.35  \n",
       "1         11859.95  \n",
       "2          5248.60  \n",
       "3          5503.90  \n",
       "4          7999.55  "
      ]
     },
     "execution_count": 47,
     "metadata": {},
     "output_type": "execute_result"
    }
   ],
   "source": [
    "Data.head()"
   ]
  },
  {
   "cell_type": "code",
   "execution_count": 48,
   "metadata": {},
   "outputs": [
    {
     "data": {
      "text/plain": [
       "Date                    0\n",
       "Open                    0\n",
       "High                    0\n",
       "Low                     0\n",
       "Last                    0\n",
       "Close                   0\n",
       "Total Trade Quantity    0\n",
       "Turnover (Lacs)         0\n",
       "dtype: int64"
      ]
     },
     "execution_count": 48,
     "metadata": {},
     "output_type": "execute_result"
    }
   ],
   "source": [
    "Data.isnull().sum()"
   ]
  },
  {
   "cell_type": "code",
   "execution_count": 49,
   "metadata": {},
   "outputs": [
    {
     "data": {
      "text/html": [
       "<div>\n",
       "<style scoped>\n",
       "    .dataframe tbody tr th:only-of-type {\n",
       "        vertical-align: middle;\n",
       "    }\n",
       "\n",
       "    .dataframe tbody tr th {\n",
       "        vertical-align: top;\n",
       "    }\n",
       "\n",
       "    .dataframe thead th {\n",
       "        text-align: right;\n",
       "    }\n",
       "</style>\n",
       "<table border=\"1\" class=\"dataframe\">\n",
       "  <thead>\n",
       "    <tr style=\"text-align: right;\">\n",
       "      <th></th>\n",
       "      <th>Open</th>\n",
       "      <th>High</th>\n",
       "      <th>Low</th>\n",
       "      <th>Last</th>\n",
       "      <th>Close</th>\n",
       "      <th>Total Trade Quantity</th>\n",
       "      <th>Turnover (Lacs)</th>\n",
       "    </tr>\n",
       "  </thead>\n",
       "  <tbody>\n",
       "    <tr>\n",
       "      <th>count</th>\n",
       "      <td>2035.000000</td>\n",
       "      <td>2035.000000</td>\n",
       "      <td>2035.000000</td>\n",
       "      <td>2035.000000</td>\n",
       "      <td>2035.00000</td>\n",
       "      <td>2.035000e+03</td>\n",
       "      <td>2035.000000</td>\n",
       "    </tr>\n",
       "    <tr>\n",
       "      <th>mean</th>\n",
       "      <td>149.713735</td>\n",
       "      <td>151.992826</td>\n",
       "      <td>147.293931</td>\n",
       "      <td>149.474251</td>\n",
       "      <td>149.45027</td>\n",
       "      <td>2.335681e+06</td>\n",
       "      <td>3899.980565</td>\n",
       "    </tr>\n",
       "    <tr>\n",
       "      <th>std</th>\n",
       "      <td>48.664509</td>\n",
       "      <td>49.413109</td>\n",
       "      <td>47.931958</td>\n",
       "      <td>48.732570</td>\n",
       "      <td>48.71204</td>\n",
       "      <td>2.091778e+06</td>\n",
       "      <td>4570.767877</td>\n",
       "    </tr>\n",
       "    <tr>\n",
       "      <th>min</th>\n",
       "      <td>81.100000</td>\n",
       "      <td>82.800000</td>\n",
       "      <td>80.000000</td>\n",
       "      <td>81.000000</td>\n",
       "      <td>80.95000</td>\n",
       "      <td>3.961000e+04</td>\n",
       "      <td>37.040000</td>\n",
       "    </tr>\n",
       "    <tr>\n",
       "      <th>25%</th>\n",
       "      <td>120.025000</td>\n",
       "      <td>122.100000</td>\n",
       "      <td>118.300000</td>\n",
       "      <td>120.075000</td>\n",
       "      <td>120.05000</td>\n",
       "      <td>1.146444e+06</td>\n",
       "      <td>1427.460000</td>\n",
       "    </tr>\n",
       "    <tr>\n",
       "      <th>50%</th>\n",
       "      <td>141.500000</td>\n",
       "      <td>143.400000</td>\n",
       "      <td>139.600000</td>\n",
       "      <td>141.100000</td>\n",
       "      <td>141.25000</td>\n",
       "      <td>1.783456e+06</td>\n",
       "      <td>2512.030000</td>\n",
       "    </tr>\n",
       "    <tr>\n",
       "      <th>75%</th>\n",
       "      <td>157.175000</td>\n",
       "      <td>159.400000</td>\n",
       "      <td>155.150000</td>\n",
       "      <td>156.925000</td>\n",
       "      <td>156.90000</td>\n",
       "      <td>2.813594e+06</td>\n",
       "      <td>4539.015000</td>\n",
       "    </tr>\n",
       "    <tr>\n",
       "      <th>max</th>\n",
       "      <td>327.700000</td>\n",
       "      <td>328.750000</td>\n",
       "      <td>321.650000</td>\n",
       "      <td>325.950000</td>\n",
       "      <td>325.75000</td>\n",
       "      <td>2.919102e+07</td>\n",
       "      <td>55755.080000</td>\n",
       "    </tr>\n",
       "  </tbody>\n",
       "</table>\n",
       "</div>"
      ],
      "text/plain": [
       "              Open         High          Low         Last       Close  \\\n",
       "count  2035.000000  2035.000000  2035.000000  2035.000000  2035.00000   \n",
       "mean    149.713735   151.992826   147.293931   149.474251   149.45027   \n",
       "std      48.664509    49.413109    47.931958    48.732570    48.71204   \n",
       "min      81.100000    82.800000    80.000000    81.000000    80.95000   \n",
       "25%     120.025000   122.100000   118.300000   120.075000   120.05000   \n",
       "50%     141.500000   143.400000   139.600000   141.100000   141.25000   \n",
       "75%     157.175000   159.400000   155.150000   156.925000   156.90000   \n",
       "max     327.700000   328.750000   321.650000   325.950000   325.75000   \n",
       "\n",
       "       Total Trade Quantity  Turnover (Lacs)  \n",
       "count          2.035000e+03      2035.000000  \n",
       "mean           2.335681e+06      3899.980565  \n",
       "std            2.091778e+06      4570.767877  \n",
       "min            3.961000e+04        37.040000  \n",
       "25%            1.146444e+06      1427.460000  \n",
       "50%            1.783456e+06      2512.030000  \n",
       "75%            2.813594e+06      4539.015000  \n",
       "max            2.919102e+07     55755.080000  "
      ]
     },
     "execution_count": 49,
     "metadata": {},
     "output_type": "execute_result"
    }
   ],
   "source": [
    "Data.describe()"
   ]
  },
  {
   "cell_type": "code",
   "execution_count": 50,
   "metadata": {},
   "outputs": [],
   "source": [
    "Data1=Data['Close']"
   ]
  },
  {
   "cell_type": "code",
   "execution_count": 51,
   "metadata": {},
   "outputs": [
    {
     "data": {
      "text/plain": [
       "0       233.75\n",
       "1       233.25\n",
       "2       234.25\n",
       "3       236.10\n",
       "4       233.30\n",
       "         ...  \n",
       "2030    118.65\n",
       "2031    117.60\n",
       "2032    120.65\n",
       "2033    120.90\n",
       "2034    121.55\n",
       "Name: Close, Length: 2035, dtype: float64"
      ]
     },
     "execution_count": 51,
     "metadata": {},
     "output_type": "execute_result"
    }
   ],
   "source": [
    "Data1\n"
   ]
  },
  {
   "cell_type": "code",
   "execution_count": 52,
   "metadata": {},
   "outputs": [],
   "source": [
    "from sklearn.preprocessing import MinMaxScaler\n",
    "\n",
    "scaler=MinMaxScaler(feature_range=(0,1))\n",
    "Data1=scaler.fit_transform(np.array(Data1).reshape(-1,1))\n"
   ]
  },
  {
   "cell_type": "code",
   "execution_count": 53,
   "metadata": {},
   "outputs": [
    {
     "data": {
      "text/plain": [
       "array([[0.62418301],\n",
       "       [0.62214052],\n",
       "       [0.62622549],\n",
       "       ...,\n",
       "       [0.1621732 ],\n",
       "       [0.16319444],\n",
       "       [0.16584967]])"
      ]
     },
     "execution_count": 53,
     "metadata": {},
     "output_type": "execute_result"
    }
   ],
   "source": [
    "Data1"
   ]
  },
  {
   "cell_type": "code",
   "execution_count": 54,
   "metadata": {},
   "outputs": [],
   "source": [
    "training_size=int(len(Data1)*0.65)\n",
    "test_size=len(Data1)-training_size\n",
    "\n",
    "train_data,test_data =Data1[0:training_size,:],Data1[training_size:len(Data1),:1]"
   ]
  },
  {
   "cell_type": "code",
   "execution_count": 55,
   "metadata": {},
   "outputs": [
    {
     "data": {
      "text/plain": [
       "1322"
      ]
     },
     "execution_count": 55,
     "metadata": {},
     "output_type": "execute_result"
    }
   ],
   "source": [
    "training_size"
   ]
  },
  {
   "cell_type": "code",
   "execution_count": 56,
   "metadata": {},
   "outputs": [
    {
     "data": {
      "text/plain": [
       "713"
      ]
     },
     "execution_count": 56,
     "metadata": {},
     "output_type": "execute_result"
    }
   ],
   "source": [
    "len(test_data)"
   ]
  },
  {
   "cell_type": "code",
   "execution_count": 58,
   "metadata": {},
   "outputs": [],
   "source": [
    "import numpy\n",
    "\n",
    "def create_dataset(dataset, time_step=1):\n",
    "    dataX, dataY = [], []\n",
    "    for i in range(len(dataset)-time_step-1):\n",
    "        a = dataset[i:(i+time_step), 0]\n",
    "        dataX.append(a)\n",
    "        dataY.append(dataset[i + time_step, 0])\n",
    "    return numpy.array(dataX), numpy.array(dataY)\n"
   ]
  },
  {
   "cell_type": "code",
   "execution_count": null,
   "metadata": {},
   "outputs": [],
   "source": []
  },
  {
   "cell_type": "code",
   "execution_count": 59,
   "metadata": {},
   "outputs": [],
   "source": [
    "time_step = 100\n",
    "X_train, y_train = create_dataset(train_data, time_step)\n",
    "X_test, ytest = create_dataset(test_data,time_step)"
   ]
  },
  {
   "cell_type": "code",
   "execution_count": 60,
   "metadata": {},
   "outputs": [
    {
     "name": "stdout",
     "output_type": "stream",
     "text": [
      "(1221, 100)\n",
      "(1221,)\n"
     ]
    },
    {
     "data": {
      "text/plain": [
       "(None, None)"
      ]
     },
     "execution_count": 60,
     "metadata": {},
     "output_type": "execute_result"
    }
   ],
   "source": [
    "print(X_train.shape), print(y_train.shape)"
   ]
  },
  {
   "cell_type": "code",
   "execution_count": 61,
   "metadata": {},
   "outputs": [
    {
     "name": "stdout",
     "output_type": "stream",
     "text": [
      "(612, 100)\n",
      "(612,)\n"
     ]
    },
    {
     "data": {
      "text/plain": [
       "(None, None)"
      ]
     },
     "execution_count": 61,
     "metadata": {},
     "output_type": "execute_result"
    }
   ],
   "source": [
    "print(X_test.shape),print(ytest.shape)"
   ]
  },
  {
   "cell_type": "code",
   "execution_count": 63,
   "metadata": {},
   "outputs": [],
   "source": [
    "X_train =X_train.reshape(X_train.shape[0],X_train.shape[1] , 1)\n",
    "X_test = X_test.reshape(X_test.shape[0],X_test.shape[1] , 1)\n"
   ]
  },
  {
   "cell_type": "code",
   "execution_count": 64,
   "metadata": {},
   "outputs": [],
   "source": [
    "from tensorflow.keras.models import Sequential\n",
    "from tensorflow.keras.layers import Dense\n",
    "from tensorflow.keras.layers import LSTM"
   ]
  },
  {
   "cell_type": "code",
   "execution_count": 65,
   "metadata": {},
   "outputs": [],
   "source": [
    "model=Sequential()\n",
    "model.add(LSTM(50,return_sequences=True,input_shape=(100,1)))\n",
    "model.add(LSTM(50,return_sequences=True))\n",
    "model.add(LSTM(50))\n",
    "model.add(Dense(1))\n",
    "model.compile(loss='mean_squared_error',optimizer='adam')"
   ]
  },
  {
   "cell_type": "code",
   "execution_count": 66,
   "metadata": {},
   "outputs": [
    {
     "name": "stdout",
     "output_type": "stream",
     "text": [
      "Model: \"sequential\"\n",
      "_________________________________________________________________\n",
      " Layer (type)                Output Shape              Param #   \n",
      "=================================================================\n",
      " lstm (LSTM)                 (None, 100, 50)           10400     \n",
      "                                                                 \n",
      " lstm_1 (LSTM)               (None, 100, 50)           20200     \n",
      "                                                                 \n",
      " lstm_2 (LSTM)               (None, 50)                20200     \n",
      "                                                                 \n",
      " dense (Dense)               (None, 1)                 51        \n",
      "                                                                 \n",
      "=================================================================\n",
      "Total params: 50,851\n",
      "Trainable params: 50,851\n",
      "Non-trainable params: 0\n",
      "_________________________________________________________________\n"
     ]
    }
   ],
   "source": [
    "model.summary()"
   ]
  },
  {
   "cell_type": "code",
   "execution_count": 67,
   "metadata": {},
   "outputs": [
    {
     "name": "stdout",
     "output_type": "stream",
     "text": [
      "Epoch 1/100\n",
      "20/20 [==============================] - 11s 270ms/step - loss: 0.0315 - val_loss: 0.0033\n",
      "Epoch 2/100\n",
      "20/20 [==============================] - 3s 161ms/step - loss: 0.0039 - val_loss: 0.0015\n",
      "Epoch 3/100\n",
      "20/20 [==============================] - 3s 169ms/step - loss: 0.0020 - val_loss: 0.0012\n",
      "Epoch 4/100\n",
      "20/20 [==============================] - 3s 163ms/step - loss: 0.0016 - val_loss: 0.0011\n",
      "Epoch 5/100\n",
      "20/20 [==============================] - 3s 167ms/step - loss: 0.0016 - val_loss: 0.0011\n",
      "Epoch 6/100\n",
      "20/20 [==============================] - 3s 169ms/step - loss: 0.0015 - val_loss: 9.5225e-04\n",
      "Epoch 7/100\n",
      "20/20 [==============================] - 3s 168ms/step - loss: 0.0015 - val_loss: 0.0014\n",
      "Epoch 8/100\n",
      "20/20 [==============================] - 3s 164ms/step - loss: 0.0015 - val_loss: 0.0011\n",
      "Epoch 9/100\n",
      "20/20 [==============================] - 3s 161ms/step - loss: 0.0013 - val_loss: 0.0010\n",
      "Epoch 10/100\n",
      "20/20 [==============================] - 3s 161ms/step - loss: 0.0012 - val_loss: 0.0010\n",
      "Epoch 11/100\n",
      "20/20 [==============================] - 3s 159ms/step - loss: 0.0013 - val_loss: 8.5646e-04\n",
      "Epoch 12/100\n",
      "20/20 [==============================] - 3s 158ms/step - loss: 0.0011 - val_loss: 0.0012\n",
      "Epoch 13/100\n",
      "20/20 [==============================] - 3s 162ms/step - loss: 0.0011 - val_loss: 8.6058e-04\n",
      "Epoch 14/100\n",
      "20/20 [==============================] - 3s 159ms/step - loss: 0.0010 - val_loss: 8.1957e-04\n",
      "Epoch 15/100\n",
      "20/20 [==============================] - 3s 166ms/step - loss: 9.5350e-04 - val_loss: 7.8860e-04\n",
      "Epoch 16/100\n",
      "20/20 [==============================] - 4s 202ms/step - loss: 9.2600e-04 - val_loss: 8.6569e-04\n",
      "Epoch 17/100\n",
      "20/20 [==============================] - 3s 174ms/step - loss: 9.3125e-04 - val_loss: 8.2947e-04\n",
      "Epoch 18/100\n",
      "20/20 [==============================] - 3s 158ms/step - loss: 9.1956e-04 - val_loss: 7.0730e-04\n",
      "Epoch 19/100\n",
      "20/20 [==============================] - 3s 150ms/step - loss: 8.3920e-04 - val_loss: 6.7342e-04\n",
      "Epoch 20/100\n",
      "20/20 [==============================] - 3s 163ms/step - loss: 8.2313e-04 - val_loss: 6.5983e-04\n",
      "Epoch 21/100\n",
      "20/20 [==============================] - 3s 164ms/step - loss: 8.3060e-04 - val_loss: 9.3545e-04\n",
      "Epoch 22/100\n",
      "20/20 [==============================] - 3s 152ms/step - loss: 7.6998e-04 - val_loss: 8.1246e-04\n",
      "Epoch 23/100\n",
      "20/20 [==============================] - 3s 161ms/step - loss: 7.3188e-04 - val_loss: 8.9810e-04\n",
      "Epoch 24/100\n",
      "20/20 [==============================] - 4s 175ms/step - loss: 9.0307e-04 - val_loss: 7.8069e-04\n",
      "Epoch 25/100\n",
      "20/20 [==============================] - 3s 152ms/step - loss: 6.8306e-04 - val_loss: 7.8356e-04\n",
      "Epoch 26/100\n",
      "20/20 [==============================] - 3s 152ms/step - loss: 7.6994e-04 - val_loss: 9.2499e-04\n",
      "Epoch 27/100\n",
      "20/20 [==============================] - 3s 149ms/step - loss: 7.0935e-04 - val_loss: 6.7083e-04\n",
      "Epoch 28/100\n",
      "20/20 [==============================] - 3s 147ms/step - loss: 0.0013 - val_loss: 5.8133e-04\n",
      "Epoch 29/100\n",
      "20/20 [==============================] - 3s 152ms/step - loss: 8.3583e-04 - val_loss: 0.0015\n",
      "Epoch 30/100\n",
      "20/20 [==============================] - 3s 151ms/step - loss: 9.6571e-04 - val_loss: 0.0010\n",
      "Epoch 31/100\n",
      "20/20 [==============================] - 3s 153ms/step - loss: 6.5267e-04 - val_loss: 7.9362e-04\n",
      "Epoch 32/100\n",
      "20/20 [==============================] - 3s 147ms/step - loss: 6.1488e-04 - val_loss: 7.1435e-04\n",
      "Epoch 33/100\n",
      "20/20 [==============================] - 3s 146ms/step - loss: 5.9250e-04 - val_loss: 9.0935e-04\n",
      "Epoch 34/100\n",
      "20/20 [==============================] - 3s 154ms/step - loss: 5.9529e-04 - val_loss: 5.5758e-04\n",
      "Epoch 35/100\n",
      "20/20 [==============================] - 3s 148ms/step - loss: 6.1602e-04 - val_loss: 8.1672e-04\n",
      "Epoch 36/100\n",
      "20/20 [==============================] - 3s 147ms/step - loss: 5.9106e-04 - val_loss: 5.5521e-04\n",
      "Epoch 37/100\n",
      "20/20 [==============================] - 3s 154ms/step - loss: 5.5960e-04 - val_loss: 6.5349e-04\n",
      "Epoch 38/100\n",
      "20/20 [==============================] - 3s 148ms/step - loss: 5.6124e-04 - val_loss: 5.4621e-04\n",
      "Epoch 39/100\n",
      "20/20 [==============================] - 3s 147ms/step - loss: 6.2661e-04 - val_loss: 6.2807e-04\n",
      "Epoch 40/100\n",
      "20/20 [==============================] - 3s 151ms/step - loss: 5.2043e-04 - val_loss: 5.6440e-04\n",
      "Epoch 41/100\n",
      "20/20 [==============================] - 3s 153ms/step - loss: 5.4376e-04 - val_loss: 5.2592e-04\n",
      "Epoch 42/100\n",
      "20/20 [==============================] - 3s 155ms/step - loss: 4.9570e-04 - val_loss: 4.8663e-04\n",
      "Epoch 43/100\n",
      "20/20 [==============================] - 3s 148ms/step - loss: 6.6401e-04 - val_loss: 5.0861e-04\n",
      "Epoch 44/100\n",
      "20/20 [==============================] - 3s 159ms/step - loss: 5.9095e-04 - val_loss: 6.0936e-04\n",
      "Epoch 45/100\n",
      "20/20 [==============================] - 3s 151ms/step - loss: 4.8212e-04 - val_loss: 4.3682e-04\n",
      "Epoch 46/100\n",
      "20/20 [==============================] - 3s 150ms/step - loss: 5.1346e-04 - val_loss: 5.8072e-04\n",
      "Epoch 47/100\n",
      "20/20 [==============================] - 3s 151ms/step - loss: 4.9187e-04 - val_loss: 7.6504e-04\n",
      "Epoch 48/100\n",
      "20/20 [==============================] - 3s 152ms/step - loss: 5.3676e-04 - val_loss: 5.3080e-04\n",
      "Epoch 49/100\n",
      "20/20 [==============================] - 3s 151ms/step - loss: 4.4686e-04 - val_loss: 4.3338e-04\n",
      "Epoch 50/100\n",
      "20/20 [==============================] - 3s 155ms/step - loss: 5.8861e-04 - val_loss: 8.2999e-04\n",
      "Epoch 51/100\n",
      "20/20 [==============================] - 3s 153ms/step - loss: 6.8939e-04 - val_loss: 5.2911e-04\n",
      "Epoch 52/100\n",
      "20/20 [==============================] - 3s 155ms/step - loss: 5.4420e-04 - val_loss: 4.1793e-04\n",
      "Epoch 53/100\n",
      "20/20 [==============================] - 3s 150ms/step - loss: 4.6950e-04 - val_loss: 6.8367e-04\n",
      "Epoch 54/100\n",
      "20/20 [==============================] - 3s 149ms/step - loss: 5.2836e-04 - val_loss: 4.0190e-04\n",
      "Epoch 55/100\n",
      "20/20 [==============================] - 3s 155ms/step - loss: 5.3343e-04 - val_loss: 5.1193e-04\n",
      "Epoch 56/100\n",
      "20/20 [==============================] - 3s 150ms/step - loss: 5.4238e-04 - val_loss: 6.5563e-04\n",
      "Epoch 57/100\n",
      "20/20 [==============================] - 3s 150ms/step - loss: 5.0502e-04 - val_loss: 3.9620e-04\n",
      "Epoch 58/100\n",
      "20/20 [==============================] - 3s 153ms/step - loss: 3.8973e-04 - val_loss: 4.7430e-04\n",
      "Epoch 59/100\n",
      "20/20 [==============================] - 3s 169ms/step - loss: 3.8084e-04 - val_loss: 4.0724e-04\n",
      "Epoch 60/100\n",
      "20/20 [==============================] - 3s 153ms/step - loss: 4.2325e-04 - val_loss: 3.7428e-04\n",
      "Epoch 61/100\n",
      "20/20 [==============================] - 3s 151ms/step - loss: 3.5665e-04 - val_loss: 4.6779e-04\n",
      "Epoch 62/100\n",
      "20/20 [==============================] - 3s 158ms/step - loss: 3.6902e-04 - val_loss: 4.3499e-04\n",
      "Epoch 63/100\n",
      "20/20 [==============================] - 3s 152ms/step - loss: 3.4699e-04 - val_loss: 3.6365e-04\n",
      "Epoch 64/100\n",
      "20/20 [==============================] - 3s 149ms/step - loss: 3.6638e-04 - val_loss: 3.7332e-04\n",
      "Epoch 65/100\n",
      "20/20 [==============================] - 3s 151ms/step - loss: 3.3208e-04 - val_loss: 3.5650e-04\n",
      "Epoch 66/100\n",
      "20/20 [==============================] - 3s 157ms/step - loss: 3.2600e-04 - val_loss: 4.1048e-04\n",
      "Epoch 67/100\n",
      "20/20 [==============================] - 3s 158ms/step - loss: 3.7580e-04 - val_loss: 4.7294e-04\n",
      "Epoch 68/100\n",
      "20/20 [==============================] - 3s 151ms/step - loss: 4.1368e-04 - val_loss: 3.0586e-04\n",
      "Epoch 69/100\n",
      "20/20 [==============================] - 3s 152ms/step - loss: 3.2643e-04 - val_loss: 3.1007e-04\n",
      "Epoch 70/100\n",
      "20/20 [==============================] - 3s 150ms/step - loss: 3.1232e-04 - val_loss: 3.5694e-04\n",
      "Epoch 71/100\n",
      "20/20 [==============================] - 3s 153ms/step - loss: 3.1150e-04 - val_loss: 3.9966e-04\n",
      "Epoch 72/100\n",
      "20/20 [==============================] - 3s 152ms/step - loss: 2.9593e-04 - val_loss: 2.8722e-04\n",
      "Epoch 73/100\n",
      "20/20 [==============================] - 3s 159ms/step - loss: 3.0878e-04 - val_loss: 3.1675e-04\n",
      "Epoch 74/100\n",
      "20/20 [==============================] - 3s 153ms/step - loss: 2.8928e-04 - val_loss: 3.5271e-04\n",
      "Epoch 75/100\n",
      "20/20 [==============================] - 3s 150ms/step - loss: 2.8097e-04 - val_loss: 2.6654e-04\n",
      "Epoch 76/100\n",
      "20/20 [==============================] - 3s 159ms/step - loss: 3.4785e-04 - val_loss: 2.4564e-04\n",
      "Epoch 77/100\n",
      "20/20 [==============================] - 3s 155ms/step - loss: 2.7171e-04 - val_loss: 3.2920e-04\n",
      "Epoch 78/100\n",
      "20/20 [==============================] - 3s 156ms/step - loss: 2.7055e-04 - val_loss: 3.1453e-04\n",
      "Epoch 79/100\n",
      "20/20 [==============================] - 3s 152ms/step - loss: 3.9000e-04 - val_loss: 5.9702e-04\n",
      "Epoch 80/100\n",
      "20/20 [==============================] - 3s 159ms/step - loss: 4.1003e-04 - val_loss: 2.2736e-04\n",
      "Epoch 81/100\n",
      "20/20 [==============================] - 3s 153ms/step - loss: 2.8292e-04 - val_loss: 2.9711e-04\n",
      "Epoch 82/100\n",
      "20/20 [==============================] - 3s 153ms/step - loss: 3.1248e-04 - val_loss: 2.9957e-04\n",
      "Epoch 83/100\n",
      "20/20 [==============================] - 3s 156ms/step - loss: 3.0608e-04 - val_loss: 2.3701e-04\n",
      "Epoch 84/100\n",
      "20/20 [==============================] - 3s 156ms/step - loss: 2.6017e-04 - val_loss: 3.1287e-04\n",
      "Epoch 85/100\n",
      "20/20 [==============================] - 3s 158ms/step - loss: 2.5924e-04 - val_loss: 2.3816e-04\n",
      "Epoch 86/100\n",
      "20/20 [==============================] - 3s 153ms/step - loss: 2.6346e-04 - val_loss: 3.1000e-04\n",
      "Epoch 87/100\n",
      "20/20 [==============================] - 3s 157ms/step - loss: 2.4385e-04 - val_loss: 2.2375e-04\n",
      "Epoch 88/100\n",
      "20/20 [==============================] - 3s 154ms/step - loss: 2.3758e-04 - val_loss: 2.3961e-04\n",
      "Epoch 89/100\n",
      "20/20 [==============================] - 3s 151ms/step - loss: 2.4223e-04 - val_loss: 2.4172e-04\n",
      "Epoch 90/100\n",
      "20/20 [==============================] - 3s 162ms/step - loss: 2.3148e-04 - val_loss: 2.1800e-04\n",
      "Epoch 91/100\n",
      "20/20 [==============================] - 3s 152ms/step - loss: 2.9568e-04 - val_loss: 2.0721e-04\n",
      "Epoch 92/100\n",
      "20/20 [==============================] - 3s 151ms/step - loss: 2.3906e-04 - val_loss: 2.8190e-04\n",
      "Epoch 93/100\n",
      "20/20 [==============================] - 3s 155ms/step - loss: 2.6898e-04 - val_loss: 2.7816e-04\n",
      "Epoch 94/100\n",
      "20/20 [==============================] - 3s 166ms/step - loss: 3.0865e-04 - val_loss: 2.0608e-04\n",
      "Epoch 95/100\n",
      "20/20 [==============================] - 3s 151ms/step - loss: 2.3091e-04 - val_loss: 2.3273e-04\n",
      "Epoch 96/100\n",
      "20/20 [==============================] - 3s 153ms/step - loss: 3.6522e-04 - val_loss: 3.0605e-04\n",
      "Epoch 97/100\n",
      "20/20 [==============================] - 3s 156ms/step - loss: 2.2658e-04 - val_loss: 2.4027e-04\n",
      "Epoch 98/100\n",
      "20/20 [==============================] - 3s 155ms/step - loss: 2.2314e-04 - val_loss: 4.2528e-04\n",
      "Epoch 99/100\n",
      "20/20 [==============================] - 3s 159ms/step - loss: 2.3239e-04 - val_loss: 2.2027e-04\n",
      "Epoch 100/100\n",
      "20/20 [==============================] - 3s 154ms/step - loss: 2.2322e-04 - val_loss: 2.1815e-04\n"
     ]
    },
    {
     "data": {
      "text/plain": [
       "<keras.callbacks.History at 0x21a6e2801f0>"
      ]
     },
     "execution_count": 67,
     "metadata": {},
     "output_type": "execute_result"
    }
   ],
   "source": [
    "model.fit(X_train,y_train,validation_data=(X_test,ytest),epochs=100,batch_size=64,verbose=1)"
   ]
  },
  {
   "cell_type": "code",
   "execution_count": 68,
   "metadata": {},
   "outputs": [
    {
     "name": "stdout",
     "output_type": "stream",
     "text": [
      "39/39 [==============================] - 3s 36ms/step\n",
      "20/20 [==============================] - 1s 37ms/step\n"
     ]
    }
   ],
   "source": [
    "train_predict=model.predict(X_train)\n",
    "test_predict=model.predict(X_test)\n",
    "\n",
    "train_predict=scaler.inverse_transform(train_predict)\n",
    "test_predict=scaler.inverse_transform(test_predict)"
   ]
  },
  {
   "cell_type": "code",
   "execution_count": 69,
   "metadata": {},
   "outputs": [
    {
     "data": {
      "text/plain": [
       "165.4057445858313"
      ]
     },
     "execution_count": 69,
     "metadata": {},
     "output_type": "execute_result"
    }
   ],
   "source": [
    "import math\n",
    "from sklearn.metrics import mean_squared_error\n",
    "math.sqrt(mean_squared_error(y_train,train_predict))"
   ]
  },
  {
   "cell_type": "code",
   "execution_count": 70,
   "metadata": {},
   "outputs": [
    {
     "data": {
      "text/plain": [
       "(1, 372)"
      ]
     },
     "execution_count": 70,
     "metadata": {},
     "output_type": "execute_result"
    }
   ],
   "source": [
    "x_input=test_data[341:].reshape(1,-1)\n",
    "x_input.shape"
   ]
  },
  {
   "cell_type": "code",
   "execution_count": 71,
   "metadata": {},
   "outputs": [
    {
     "data": {
      "image/png": "[encoded data removed]",
      "text/plain": [
       "<Figure size 432x288 with 1 Axes>"
      ]
     },
     "metadata": {
      "needs_background": "light"
     },
     "output_type": "display_data"
    }
   ],
   "source": [
    "look_back=100\n",
    "\n",
    "train_predict_plot=np.empty_like(Data1)\n",
    "train_predict_plot[:,:]=np.nan\n",
    "train_predict_plot[look_back:len(train_predict)+look_back,:]=train_predict\n",
    "\n",
    "\n",
    "\n",
    "test_predict_plot=np.empty_like(Data1)\n",
    "test_predict_plot[:,:]=np.nan\n",
    "test_predict_plot[len(train_predict)+(look_back*2)+1:len(Data1)-1,:]=test_predict\n",
    "\n",
    "\n",
    "plt.plot(scaler.inverse_transform(Data1))\n",
    "plt.plot(train_predict_plot)\n",
    "plt.plot(test_predict_plot)\n",
    "plt.show()"
   ]
  },
  {
   "cell_type": "code",
   "execution_count": null,
   "metadata": {},
   "outputs": [],
   "source": []
  }
 ],
 "metadata": {
  "kernelspec": {
   "display_name": "Python 3",
   "language": "python",
   "name": "python3"
  },
  "language_info": {
   "codemirror_mode": {
    "name": "ipython",
    "version": 3
   },
   "file_extension": ".py",
   "mimetype": "text/x-python",
   "name": "python",
   "nbconvert_exporter": "python",
   "pygments_lexer": "ipython3",
   "version": "3.10.6"
  },
  "orig_nbformat": 4
 },
 "nbformat": 4,
 "nbformat_minor": 2
}
